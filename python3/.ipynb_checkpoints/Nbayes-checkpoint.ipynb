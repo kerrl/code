{
 "cells": [
  {
   "cell_type": "markdown",
   "metadata": {},
   "source": [
    "#### 朴素贝叶斯\n",
    ">1、在使用该算法的时候，如果不需要知道具体的类别概率，即上面P(H1|E)=0.6，只需要知道所属类别，即来自几号碗，要知道我们只需要比较P(H1|E)和P(H2|E)的大小，找到那个最大的概率就可以。  \n",
    "2、既然如此，两者的分母都是相同的，那我们只需要比较分子即可。即比较P(E|H1)P(H1)和P(E|H2)P(H2)的大小，所以为了减少计算量，全概率公式在实际编程中可以不使用  \n",
    "3、贝叶斯和朴素贝叶斯的概念是不同的，区别就在于“朴素”二字，朴素贝叶斯对条件个概率分布做了条件独立性的假设。\n",
    "\n",
    "\n",
    "\n",
    "\n",
    "$$\n",
    "\\begin{align}\n",
    "P(a|X)& = P(X|a)*P(a) =P(x_{1},x_{2}...x_{n}|a)*P(a)\\\\\n",
    "    & = P(x_{1}|a)* P(x_{2}|a)* P(x_{3}|a)*...* P(x_{n}|a) * P(a) \n",
    "\\end{align}\n",
    "$$ \n",
    "\n",
    "#### 朴素贝叶斯的条件概率：\n",
    "\n",
    "$$\n",
    "\\begin{align}\n",
    "P(a|X) &= \\frac{ P(X|a)*P(a) }{P(X)}\\\\\n",
    "     &= P(a) * \\frac{ P(X|a)}{P(X)} \\\\\n",
    "     &= P(a) * \\frac{ P(x_{1}|a)* P(x_{2}|a)* P(x_{3}|a)*...* P(x_{n}|a) } {P(X)}\n",
    "\\end{align}\n",
    "$$\n",
    "\n",
    "\n"
   ]
  },
  {
   "cell_type": "code",
   "execution_count": 1,
   "metadata": {},
   "outputs": [],
   "source": [
    "import numpy as np\n"
   ]
  },
  {
   "cell_type": "code",
   "execution_count": null,
   "metadata": {
    "code_folding": [
     0
    ]
   },
   "outputs": [],
   "source": [
    "def loadDataSet():\n",
    "    postingList=[['my', 'dog', 'has', 'flea', 'problems', 'help', 'please'],                \n",
    "                 ['maybe', 'not', 'take', 'him', 'to', 'dog', 'park', 'stupid'],\n",
    "                 ['my', 'dalmation', 'is', 'so', 'cute', 'I', 'love', 'him'],\n",
    "                 ['stop', 'posting', 'stupid', 'worthless', 'garbage'],\n",
    "                 ['mr', 'licks', 'ate', 'my', 'steak', 'how', 'to', 'stop', 'him'],\n",
    "                 ['quit', 'buying', 'worthless', 'dog', 'food', 'stupid']]\n",
    "    classVec = [0,1,0,1,0,1]                                                                   #标签，1代表侮辱性词汇，0代表不是\n",
    "    return postingList,classVec\n",
    "\n",
    "def setOfWords2Vec(vocabList, inputSet):\n",
    "    returnVec = [0] * len(vocabList)                                    #创建一个其中所含元素都为0的向量\n",
    "    for word in inputSet:                                                #遍历每个词条\n",
    "        if word in vocabList:                                            #如果词条存在于词汇表中，则置1\n",
    "            returnVec[vocabList.index(word)] = 1\n",
    "        else: print(\"the word: %s is not in my Vocabulary!\" % word)\n",
    "    return returnVec                                                    #返回文档向量\n",
    "\n",
    "def createVocabList(dataSet):\n",
    "    vocabSet = set([])                      #创建一个空的不重复列表\n",
    "    for document in dataSet:               \n",
    "        vocabSet = vocabSet | set(document) #取并集\n",
    "    return list(vocabSet)"
   ]
  },
  {
   "cell_type": "markdown",
   "metadata": {},
   "source": [
    "#### trainNB0()模块的作用\n",
    "> 1、计算$P(X|a) = P(x_{1},x_{2},x_{3}...x_{n}|a) =P(x_{1}|a),P(x_{2}|a),P(x_{3}|a)...,P(x_{n}|a) $  \n",
    "2、a = 1 （侮辱类）| 0 (非侮辱类)  \n",
    "3、最终计算出 $P(单词1|侮辱类),P(单词2|侮辱类),P(单词3|侮辱类|a)...,P(单词n|侮辱类)$的概率  \n",
    "4、$P(侮辱类) = P(非侮辱类) = \\frac{1}{2} = 0.5$  \n",
    "5、光是分类问题，由于计算$P(a=1|X)$和$P(a=0|X)$的分母都是$P(X)$,所以可以直接比较$P(a)*P(X|a)$大小即可。\n"
   ]
  },
  {
   "cell_type": "code",
   "execution_count": null,
   "metadata": {
    "code_folding": [
     0
    ]
   },
   "outputs": [],
   "source": [
    "# 函数的两个参数要求为numpy的数组格式\n",
    "def trainNB0(trainMatrix,trainCategory):\n",
    "    numTrainDocs = len(trainMatrix)                            #计算训练的文档数目\n",
    "    numWords = len(trainMatrix[0])                            #计算每篇文档的词条数\n",
    "    pAbusive = sum(trainCategory)/float(numTrainDocs)        #文档属于侮辱类的概率\n",
    "    p0Num = np.zeros(numWords); p1Num = np.zeros(numWords)    #创建numpy.zeros数组,词条出现数初始化为0\n",
    "    p0Denom = 0.0; p1Denom = 0.0                            #分母初始化为0\n",
    "    for i in range(numTrainDocs):\n",
    "        if trainCategory[i] == 1:                            #统计属于侮辱类的条件概率所需的数据，即P(w0|1),P(w1|1),P(w2|1)···\n",
    "            p1Num += trainMatrix[i]\n",
    "            p1Denom += sum(trainMatrix[i])\n",
    "        else:                                                #统计属于非侮辱类的条件概率所需的数据，即P(w0|0),P(w1|0),P(w2|0)···\n",
    "            p0Num += trainMatrix[i]\n",
    "            p0Denom += sum(trainMatrix[i])\n",
    "    p1Vect = p1Num/p1Denom                                      \n",
    "    p0Vect = p0Num/p0Denom         \n",
    "    return p0Vect,p1Vect,pAbusive     "
   ]
  },
  {
   "cell_type": "code",
   "execution_count": null,
   "metadata": {},
   "outputs": [],
   "source": [
    "# 二分类器\n",
    "def classifyNB(vec2Classify, p0Vec, p1Vec, pClass1):\n",
    "    p1 = reduce(lambda x,y:x*y, vec2Classify * p1Vec) * pClass1                #对应元素相乘\n",
    "    p0 = reduce(lambda x,y:x*y, vec2Classify * p0Vec) * (1.0 - pClass1)        \n",
    "    print('p0:',p0)\n",
    "    print('p1:',p1)\n",
    "    if p1 > p0:             # 实际上对一个二元分类问题，如果P1 >0.5,可以返回1，反之返回0\n",
    "        return 1\n",
    "    else: \n",
    "        return 0\n",
    "    \n",
    "\n",
    "def testingNB():\n",
    "    listOPosts,listClasses = loadDataSet()                                    #创建实验样本\n",
    "    myVocabList = createVocabList(listOPosts)                                #创建词汇表\n",
    "    trainMat=[]\n",
    "    for postinDoc in listOPosts:\n",
    "        trainMat.append(setOfWords2Vec(myVocabList, postinDoc))                #将实验样本向量化\n",
    "    p0V,p1V,pAb = trainNB0(np.array(trainMat),np.array(listClasses))        #训练朴素贝叶斯分类器\n",
    "    testEntry = ['love', 'my', 'dalmation']                                    #测试样本1\n",
    "    thisDoc = np.array(setOfWords2Vec(myVocabList, testEntry))                #测试样本向量化\n",
    "    if classifyNB(thisDoc,p0V,p1V,pAb):\n",
    "        print(testEntry,'属于侮辱类')                                        #执行分类并打印分类结果\n",
    "    else:\n",
    "        print(testEntry,'属于非侮辱类')                                        #执行分类并打印分类结果\n",
    "    testEntry = ['stupid', 'garbage']                                        #测试样本2\n",
    " \n",
    "    thisDoc = np.array(setOfWords2Vec(myVocabList, testEntry))                #测试样本向量化\n",
    "    if classifyNB(thisDoc,p0V,p1V,pAb):\n",
    "        print(testEntry,'属于侮辱类')                                        #执行分类并打印分类结果\n",
    "    else:\n",
    "        print(testEntry,'属于非侮辱类')                                        #执行分类并打印分类结果"
   ]
  },
  {
   "cell_type": "code",
   "execution_count": null,
   "metadata": {},
   "outputs": [],
   "source": [
    "# 朴素贝叶斯二元分类器的测试\n",
    "\n",
    "def testBayes():\n",
    "    a = load"
   ]
  }
 ],
 "metadata": {
  "kernelspec": {
   "display_name": "Python 3",
   "language": "python",
   "name": "python3"
  },
  "language_info": {
   "codemirror_mode": {
    "name": "ipython",
    "version": 3
   },
   "file_extension": ".py",
   "mimetype": "text/x-python",
   "name": "python",
   "nbconvert_exporter": "python",
   "pygments_lexer": "ipython3",
   "version": "3.6.1"
  },
  "toc": {
   "base_numbering": 1,
   "nav_menu": {},
   "number_sections": true,
   "sideBar": true,
   "skip_h1_title": false,
   "title_cell": "Table of Contents",
   "title_sidebar": "Contents",
   "toc_cell": false,
   "toc_position": {},
   "toc_section_display": true,
   "toc_window_display": true
  },
  "varInspector": {
   "cols": {
    "lenName": 16,
    "lenType": 16,
    "lenVar": 40
   },
   "kernels_config": {
    "python": {
     "delete_cmd_postfix": "",
     "delete_cmd_prefix": "del ",
     "library": "var_list.py",
     "varRefreshCmd": "print(var_dic_list())"
    },
    "r": {
     "delete_cmd_postfix": ") ",
     "delete_cmd_prefix": "rm(",
     "library": "var_list.r",
     "varRefreshCmd": "cat(var_dic_list()) "
    }
   },
   "types_to_exclude": [
    "module",
    "function",
    "builtin_function_or_method",
    "instance",
    "_Feature"
   ],
   "window_display": false
  }
 },
 "nbformat": 4,
 "nbformat_minor": 2
}
