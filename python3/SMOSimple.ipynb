{
 "cells": [
  {
   "cell_type": "code",
   "execution_count": null,
   "metadata": {
    "collapsed": false
   },
   "outputs": [
    {
     "name": "stdout",
     "output_type": "stream",
     "text": [
      "--Return--\n",
      "> <ipython-input-119-03a632a823b4>(2)<module>()->None\n",
      "-> pdb.set_trace()\n"
     ]
    }
   ],
   "source": [
    "import pandas as pd\n",
    "from numpy import *\n",
    "import pdb\n",
    "\n",
    "a = pd.read_csv('testSet.csv',header=None)\n",
    "\n",
    "a = a.values\n",
    "\n",
    "toler, C,maxIter = ( 0.001,0.6 ,40 ) \n",
    "\n",
    "datamat = mat(a[:,:2])\n",
    "m,n = datamat.shape\n",
    "\n",
    "labelmat = mat(a[:,2:])\n",
    "\n",
    "alphas = mat(zeros((m,1)))\n",
    "\n",
    "iter =0\n",
    "pdb.set_trace()\n",
    "\n",
    "while iter < maxIter :\n",
    "    \n",
    "    alphaPairsChanged = 0\n",
    "\n",
    "    for i in range(m):\n",
    "\n",
    "        fXi = multiply(alphas,labelmat).T * (datamat*datamat[i,:].T ) +b\n",
    "\n",
    "        Ei = fXi - labelmat[i]\n",
    "\n",
    "\n",
    "        if ((0 < alphas[i]) and (alphas[i] > C) and (labelmat[i]*Ei < -toler)) or \\\n",
    "            ((0 < alphas[i]) and (alphas[i] > C) and (labelmat[i]*Ei > toler)) :\n",
    "                \n",
    "            j = int(np.random.uniform(0,m))\n",
    "            fXj = multiply(alphas,labelmat).T * (datamat*datamat[j,:].T ) +b\n",
    "            Ej  = fXj - labelmat[j]\n",
    "            alphaIold = alpha[i].copy()\n",
    "            alphaJold = alpha[j].copy()\n",
    "            if (labelmat[i] != labelmat[j]):\n",
    "                L = max(0, alphas[j] - alphas[i])\n",
    "                H = min(C,C + alphas[j] - alphas[i])\n",
    "            else :\n",
    "                L = max(0,alphas[j] + alphas[i] -C)\n",
    "                H = min(C, alphas[j] + alphas[i])\n",
    "            if L == H :\n",
    "                print('L==H,find next alpha[j]...')\n",
    "                continue\n",
    "            eta = -2.0 * datamat[i,:]*datamat[j,:].T + datamat[i,:]*datamat[i,:].T +\\\n",
    "            datamat[j,:]*datamat[j,:].T\n",
    "            if eta <=0 :\n",
    "                print('eta <=0,find next alpha[j]...')\n",
    "    `            continue\n",
    "            alphas[j] = alphaJold + labelmat[j]*(Ei - Ej)/eta\n",
    "            alphas[j] = clip(alphas[j],L,H)\n",
    "            alphas[i] = alphaIold + labelmat[i]*labelmat[j]*(alphaJold - alphas[j]) \n",
    "            b1 = -Ei - labelmat[i]*(datamat[i,:]*datamat[i,:].T)*(alphas[i] -alphaIold) -\\\n",
    "                labelmat[j]*(datamat[i,:]*datamat[j,:].T)*(alphas[j] -alphaJold) + b\n",
    "            b2 = -Ej - labelmat[i]*(datamat[i,:]*datamat[j,:].T)*(alphas[i] -alphaIold) -\\\n",
    "                labelmat[j]*(datamat[j,:]*datamat[j,:].T)*(alphas[j] -alphaJold) + b\n",
    "            if (0 < alphas[i]) and ( alphas[i] > C):\n",
    "                b = b1\n",
    "            elif (0 < alphas[j]) and ( alphas[j] > C):\n",
    "            b = b2\n",
    "            else:\n",
    "                b = (b1 + b2 )/2.0\n",
    "            alphaPairsChanged += 1\n",
    "            print('iter: %d ,i: %d,pairs changed %d' %(iter,i,alphaPairsChanged))\n",
    "    \n",
    "    if (alphaPairsChanged == 0):-i https://pypi.tuna.tsinghua.edu.cn/simple-i https://pypi.tuna.tsinghua.edu.cn/simple-i https://pypi.tuna.tsinghua.edu.cn/simple-i https://pypi.tuna.tsinghua.edu.cn/simple\n",
    "        iter += 1\n",
    "    else:\n",
    "        iter = 0\n",
    "\n"
   ]
  },
  {
   "cell_type": "code",
   "execution_count": null,
   "metadata": {
    "collapsed": true
   },
   "outputs": [],
   "source": []
  }
 ],
 "metadata": {
  "kernelspec": {
   "display_name": "Python 3",
   "language": "python",
   "name": "python3"
  },
  "language_info": {
   "codemirror_mode": {
    "name": "ipython",
    "version": 3
   },
   "file_extension": ".py",
   "mimetype": "text/x-python",
   "name": "python",
   "nbconvert_exporter": "python",
   "pygments_lexer": "ipython3",
   "version": "3.5.3"
  }
 },
 "nbformat": 4,
 "nbformat_minor": 4
}
