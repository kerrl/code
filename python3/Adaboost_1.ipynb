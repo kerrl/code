{
 "cells": [
  {
   "cell_type": "code",
   "execution_count": 6,
   "metadata": {},
   "outputs": [],
   "source": [
    "import numpy as np\n"
   ]
  },
  {
   "cell_type": "code",
   "execution_count": 7,
   "metadata": {
    "scrolled": true
   },
   "outputs": [],
   "source": [
    "def load_data():\n",
    "    datamat = np.mat([\n",
    "        [1,5],\n",
    "        [2,2],\n",
    "        [3,1],\n",
    "        [4,6],\n",
    "        [6,5],\n",
    "        [6,8],\n",
    "        [7,9],\n",
    "        [8,7],\n",
    "        [9,8],\n",
    "        [10,2]\n",
    "    ])\n",
    "    labels = np.mat([1,1,-1,-1,1,-1,1,1,-1,-1]).T\n",
    "    \n",
    "    return datamat ,labels\n",
    "    "
   ]
  },
  {
   "cell_type": "code",
   "execution_count": 11,
   "metadata": {},
   "outputs": [],
   "source": [
    "def stumpClassify(dataMat,dim,threshVal,threshIneq):\n",
    "    m,n = dataMat.shape()\n",
    "    retArray = np.ones((m,1))\n",
    "    if threshIneq == 'lt':\n",
    "        retArray[ data[:,dim] <= threshVal ] = -1\n",
    "    elif threshIneq =='gt':\n",
    "         retArray[ data[:,dim] > threshVal ] = -1\n",
    "    return retArray\n"
   ]
  },
  {
   "cell_type": "code",
   "execution_count": null,
   "metadata": {},
   "outputs": [],
   "source": [
    "def buildStump(dataMat,labelsMat,D):\n",
    "    m, n = dataMat.shape()\n",
    "     numSteps = 20.0 \n",
    "    minError = inf\n",
    "    \n",
    "    for i in range(n):\n",
    "        rangeMin = dataMat.min()\n",
    "        rangeMax = dataMat.max()\n",
    "        stepSize = (rangeMax - rangeMin) / numSteps\n",
    "        \n",
    "        for j in range(-1,int(numSteps)+1):\n",
    "            for ineqal in ['lt','gt']:\n",
    "                threshVal = rangeMin + float(j)*stepSize\n",
    "                predictVals = stumpClassify(dataMat,i,threshVal,ineqal)\n",
    "                errArr = np.mat(ones(m,1))\n",
    "                errArr[predictVals == labelsMate] = 0 \n",
    "                weightedError = D.T * errArr\n",
    "                print('Split: dim {},thresh {}, thresh inequal: {}, ')\n",
    "                \n",
    "            \n",
    "        \n",
    "    "
   ]
  }
 ],
 "metadata": {
  "kernelspec": {
   "display_name": "Python 3",
   "language": "python",
   "name": "python3"
  },
  "language_info": {
   "codemirror_mode": {
    "name": "ipython",
    "version": 3
   },
   "file_extension": ".py",
   "mimetype": "text/x-python",
   "name": "python",
   "nbconvert_exporter": "python",
   "pygments_lexer": "ipython3",
   "version": "3.6.1"
  }
 },
 "nbformat": 4,
 "nbformat_minor": 4
}
