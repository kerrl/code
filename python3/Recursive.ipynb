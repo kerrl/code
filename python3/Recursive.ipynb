{
 "cells": [
  {
   "cell_type": "code",
   "execution_count": 236,
   "metadata": {
    "collapsed": false,
    "jupyter": {
     "outputs_hidden": false
    }
   },
   "outputs": [],
   "source": [
    "import numpy as np\n"
   ]
  },
  {
   "cell_type": "code",
   "execution_count": 409,
   "metadata": {
    "collapsed": false,
    "jupyter": {
     "outputs_hidden": false
    }
   },
   "outputs": [
    {
     "data": {
      "text/plain": [
       "[[2, 2, 1, 0],\n",
       " [1, 2, 1, 1],\n",
       " [1, 1, 2, 0],\n",
       " [2, 1, 2, 1],\n",
       " [2, 2, 2, 0],\n",
       " [2, 1, 1, 1],\n",
       " [2, 1, 0, 2],\n",
       " [1, 2, 2, 0],\n",
       " [2, 1, 0, 1],\n",
       " [1, 0, 1, 1],\n",
       " [1, 2, 1, 1],\n",
       " [1, 0, 0, 2],\n",
       " [0, 2, 2, 2],\n",
       " [2, 2, 0, 0],\n",
       " [1, 2, 0, 2]]"
      ]
     },
     "execution_count": 409,
     "metadata": {},
     "output_type": "execute_result"
    }
   ],
   "source": [
    "a = np.random.randint(3,size=(15,4))\n",
    "\n",
    "labels = ['col_0','col_1','col_2']\n",
    "\n",
    "a = a.tolist()\n",
    "a"
   ]
  },
  {
   "cell_type": "code",
   "execution_count": 410,
   "metadata": {
    "collapsed": false,
    "jupyter": {
     "outputs_hidden": false
    }
   },
   "outputs": [
    {
     "data": {
      "text/plain": [
       "{'col_2': {0: {'col_1': {0: 2, 1: 1, 2: 0}},\n",
       "  1: {'col_0': {1: 1, 2: 0}},\n",
       "  2: {'col_0': {0: 2, 1: 0, 2: 0}}}}"
      ]
     },
     "execution_count": 410,
     "metadata": {},
     "output_type": "execute_result"
    }
   ],
   "source": [
    "b = createTree(a,labels)\n",
    "b"
   ]
  },
  {
   "cell_type": "code",
   "execution_count": 392,
   "metadata": {
    "collapsed": false,
    "jupyter": {
     "outputs_hidden": false
    }
   },
   "outputs": [],
   "source": [
    "def createSet(dataSet):\n",
    "    n = len(dataSet[0])\n",
    "    temp_set = dataSet.copy()\n",
    "    for i  in range(n-1):\n",
    "        temp_set[n-1] = str(temp_set[n-1]) \n",
    "    return temp_set\n",
    "    \n",
    "    \n",
    "def createTree(dataSet,labels):\n",
    "    tempList = [i[-1] for i in dataSet]\n",
    "    if (tempList.count(tempList[0]) == len(dataSet)):\n",
    "        return  tempList[0]\n",
    "    if len(dataSet[0]) == 1:\n",
    "        return majorOne(dataSet)\n",
    "    \n",
    "    bestFeat = chooseBestFeat(dataSet)\n",
    "    bestFeatLabel = labels[bestFeat]\n",
    "    myTree = {bestFeatLabel:{}}\n",
    "    del(labels[bestFeat]) \n",
    "    featValue = [example[bestFeat] for example in dataSet]\n",
    "    uniqVal = set(featValue)\n",
    "    for value in uniqVal :\n",
    "        subSet = splitdataSet(dataSet,bestFeat,value)\n",
    "        subLabels = labels.copy()\n",
    "        myTree[bestFeatLabel][value] = createTree(subSet,subLabels)\n",
    "    return myTree\n",
    "        \n",
    "    \n",
    "    \n",
    "    "
   ]
  },
  {
   "cell_type": "code",
   "execution_count": 400,
   "metadata": {
    "collapsed": false,
    "jupyter": {
     "outputs_hidden": false
    }
   },
   "outputs": [],
   "source": [
    "def shannonEnCol(dataSet ,aixs):\n",
    "    m = len(dataSet)\n",
    "    list = [i[aixs] for i in dataSet]\n",
    "    featList = set(list)\n",
    "    shannonBase = calShannonEntropy(dataSet)\n",
    "    subShannon = 0.0\n",
    "    for feat in featList :\n",
    "        featData = splitdataSet(dataSet,aixs,feat)\n",
    "        prob = len(featData)/m\n",
    "        subShannon += prob * calShannonEntropy(featData)\n",
    "    shannonCol = shannonBase - subShannon\n",
    "    return shannonCol\n",
    "\n",
    "def chooseBestFeat(dataSet):\n",
    "    featNum = len(dataSet[0])\n",
    "    bestFeat = {}\n",
    "    for i in range(featNum -1):\n",
    "        bestFeat[i] = shannonEnCol(dataSet,i)\n",
    "    sortedFeat = sorted(bestFeat.items(),key = lambda x:x[1],reverse = True )\n",
    "    return sortedFeat[0][0]\n",
    "\n",
    "def calShannonEntropy(dataSet):\n",
    "    rowsCount = len(dataSet)\n",
    "    labelCount = {}\n",
    "    labelList =  [i[-1] for i in dataSet]\n",
    "    for i in labelList :\n",
    "        labelCount[i] = labelCount.get(i,0) + 1\n",
    "    shannonEnt = 0.0\n",
    "    for key in labelCount :\n",
    "        prob = float(labelCount[key]/rowsCount)\n",
    "        shannonEnt +=  -1 * prob * np.log2(prob) \n",
    "    return shannonEnt\n",
    "\n",
    "def splitdataSet(Set,aixs,value):\n",
    "    m = len(Set)\n",
    "    subSet = []\n",
    "    for i in Set:\n",
    "        if len(set[0]) > 2:\n",
    "            if i[aixs] == value :\n",
    "                tempList = i[0:aixs]\n",
    "                tempList.extend(i[aixs+1 :])\n",
    "                subSet.append(tempList)\n",
    "        else:\n",
    "            if i[aixs] == value :\n",
    "                tempList.extend( i[aixs+1:] )\n",
    "                \n",
    "    return subSet\n",
    "    \n",
    "\n",
    "\n",
    "\n",
    "def majorOne(data):\n",
    "#     print('majorOne data is{}'.format(data))\n",
    "#     print('data type is {}'.format(type(data)))\n",
    "    tempList = [sample[-1] for sample in data]\n",
    "    tempDic = {}\n",
    "    for  i in tempList:\n",
    "        if i not in tempDic.keys():\n",
    "            tempDic[i] = 0\n",
    "        else:\n",
    "            tempDic[i] += 1\n",
    "    maxOne = sorted(tempDic.items(), key = lambda x:x[1],reverse = True )\n",
    "    return maxOne[0][0]\n",
    "\n",
    "def listCol(dataSet,axis):\n",
    "    m = len(dataSet)\n",
    "    tempList = []\n",
    "    for i in range(m ):\n",
    "        List = dataSet[i][axis]\n",
    "        tempList.append(List)\n",
    "        #print(List)\n",
    "    return tempList\n",
    "\n"
   ]
  },
  {
   "cell_type": "code",
   "execution_count": null,
   "metadata": {
    "collapsed": true,
    "jupyter": {
     "outputs_hidden": true
    }
   },
   "outputs": [],
   "source": []
  }
 ],
 "metadata": {
  "kernelspec": {
   "display_name": "Python 3",
   "language": "python",
   "name": "python3"
  },
  "language_info": {
   "codemirror_mode": {
    "name": "ipython",
    "version": 3
   },
   "file_extension": ".py",
   "mimetype": "text/x-python",
   "name": "python",
   "nbconvert_exporter": "python",
   "pygments_lexer": "ipython3",
   "version": "3.6.6"
  }
 },
 "nbformat": 4,
 "nbformat_minor": 4
}
